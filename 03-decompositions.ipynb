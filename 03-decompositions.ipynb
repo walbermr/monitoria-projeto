{
 "cells": [
  {
   "cell_type": "markdown",
   "metadata": {},
   "source": [
    "# Decomposições\n",
    "\n",
    "****"
   ]
  },
  {
   "cell_type": "markdown",
   "metadata": {},
   "source": [
    "## PCA\n",
    "\n",
    "O PCA (_Principal Component Analysis_) é uma técnica não-supervisionada, não requer uma variável objetivo, que converte o conjunto de dados, com _features_ possivelmente correlacionadas, em _features_ descorrelacionadas, chamadas de _principal components_.\n",
    "\n",
    "O algoritmo é uma transformação linear que transforma os dados para um novo sistema de coordenadas, onde as dimensões são ordenadas a partir de suas variãncias. Isso significa que a maior parte da informação de um _dataset_ estará codificada nas primeiras dimensões. Essa transformação pode ser usada para reduzir a dimensionalidade de um dataset, descorrelacionando _features_ e removendo componentes que não possuem mais relevância.\n",
    "\n",
    "Podemos implementar esse algoritmo usando os seguintes passos:\n",
    "1. centralizar os dados, isso é feito subtraindo subtraindo a média de cada dimensão: $z = X - E[X]$\n",
    "2. computar a matrix de covariância dos dados centralizados transpostos: $cov = E[(X-E[X])^T(X-E[X])]$\n",
    "3. calcular os autovetores e autovalores da matrix de covariância: $cov \\cdot v - \\lambda \\cdot v = 0 $\n",
    "4. ordenar os autovetores de forma decrescente a partir dos autovalores, aqui, os autovalores expressam a representatividade de cada uma das features\n",
    "5. aplicar a transformação dos autovetores aos dados centralizados: $z \\cdot v$\n",
    "6. escolher as $n$ novas _features_ mais representativas\n",
    "\n",
    "O PCA é sensível à variância das variáveis. Isso significa que uma variável com variância muito grande, irá dominar variáveis com variãncia menor, podendo levar à um resultado enviesado. O passo 1 é fundamental para o algoritmo, os dados devem vir normalizados previamente, mas caso não sejam, eles precisam ser centralizados.\n",
    "\n",
    "O objetivo do passo 2 é entender como as variáveis estão correlacionadas entre si. Como os componentes principais são novas variáveis contruídas a partir de uma combinação linear das variáveis inciais, essas combinações serão feitas de tal forma que as novas variáveis sejam descorrelaciondas e a maior parte de informação seja comprimida no primeiro componente.\n",
    "\n",
    "No passo 3, os autovetores da matrix de covariância vão representar a direção no eixo em que existe maior variãncia. Esse passo já computa a nossa matrix de transformação, que será usada posteriormente.\n",
    "\n",
    "O passo 4 ordena os autovetores a partir dos seus autovalores. Assim, garantimos que os primeiros autovetores possuem a maior significância."
   ]
  },
  {
   "cell_type": "markdown",
   "metadata": {},
   "source": [
    "### Sua tarefa"
   ]
  },
  {
   "cell_type": "markdown",
   "metadata": {},
   "source": [
    "O seu trabalho hoje é implementar o algoritmo PCA, de tal forma que ele seja uma classe em python capaz de ser utilizado em um objeto _Pipeline_. O _Pipeline_ é um objeto que condensa modelos de normalização, redução de dimensionalidade e classificadores em apenas um objeto, facilitando o manuseio dos algoritmos.\n",
    "\n",
    "Após implementar, você deve utiliza-lo para visualizar o dataset ``wine``, do _sklearn_ em apenas duas dimensões. Além de utilizar um _Pipeline_, combinando seu PCA com um classificador.\n",
    "\n",
    "\n",
    "Dicas:\n",
    "- crie sua classe herdando de ``sklearn.base.BaseEstimator`` e implementando os métodos ``fit`` e ``transform``\n",
    "- use ``np.cov`` para criar a matriz de covariâncias\n",
    "- use ``np.linalg.eig`` para transformar a matriz de covariâncias em autovetores e autovalores\n",
    "- use ``np.argsort`` para ordenar os autovalores"
   ]
  },
  {
   "cell_type": "code",
   "execution_count": 1,
   "metadata": {},
   "outputs": [],
   "source": [
    "# Função para carregar nosso dataset\n",
    "from sklearn.datasets import load_wine\n",
    "\n",
    "# Função para separação dos dados\n",
    "from sklearn.model_selection import train_test_split\n",
    "\n",
    "# Bibliotecas de manipualção e visualização de dados\n",
    "import matplotlib.pyplot as plt\n",
    "\n",
    "# vamos carregar o dataset\n",
    "X, y = load_wine(return_X_y=True, as_frame=True)\n",
    "\n",
    "# vamos definir cores e simbolos para nossas classses\n",
    "colors = {0: \"steelblue\", 1: \"darkorange\", 2: \"mediumseagreen\"}\n",
    "markers = {0: \"s\", 1: \"^\", 2:\"o\"}\n",
    "\n",
    "# vamos criar uma função para visualizar uma região 2d, dadas duas features\n",
    "def plot_2d_space(X, y, f1, f2, colors=colors, markers=markers):\n",
    "    plt.figure()\n",
    "    labels = list(y.unique())\n",
    "    labels.sort()\n",
    "\n",
    "    lines = []\n",
    "    for i in labels:\n",
    "        line = plt.scatter(\n",
    "            X[f1][y==i],\n",
    "            X[f2][y==i], \n",
    "            c=colors[i], \n",
    "            marker=markers[i],\n",
    "            label=i,\n",
    "        )\n",
    "\n",
    "        lines.append(line)\n",
    "\n",
    "    plt.legend(handles=lines)\n",
    "        \n",
    "    plt.show()"
   ]
  },
  {
   "cell_type": "code",
   "execution_count": 3,
   "metadata": {},
   "outputs": [],
   "source": [
    "## SUA CLASSE COM O PCA"
   ]
  },
  {
   "cell_type": "code",
   "execution_count": 6,
   "metadata": {},
   "outputs": [
    {
     "data": {
      "image/png": "[encoded data removed]",
      "text/plain": [
       "<Figure size 432x288 with 1 Axes>"
      ]
     },
     "metadata": {
      "needs_background": "light"
     },
     "output_type": "display_data"
    }
   ],
   "source": [
    "## VISUALIZAÇÃO DO DATASET EM DUAS DIMENSÕES\n",
    "\n",
    "# dica: para utilizar a função plot_2d_space, crie um dataframe pandas assim: df = pd.DataFrame(new_X, columns=[0, 1]), e faça f0=0 e f1=1"
   ]
  }
 ],
 "metadata": {
  "interpreter": {
   "hash": "a2740ff0ff5ab647f4caa51cae9634c8f0b586b6f57486f90b97d87d738fcb59"
  },
  "kernelspec": {
   "display_name": "Python 3.6.13 64-bit ('mscenv': conda)",
   "language": "python",
   "name": "python3"
  },
  "language_info": {
   "codemirror_mode": {
    "name": "ipython",
    "version": 3
   },
   "file_extension": ".py",
   "mimetype": "text/x-python",
   "name": "python",
   "nbconvert_exporter": "python",
   "pygments_lexer": "ipython3",
   "version": "3.6.13"
  },
  "orig_nbformat": 4
 },
 "nbformat": 4,
 "nbformat_minor": 2
}
